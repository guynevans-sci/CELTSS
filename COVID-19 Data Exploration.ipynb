{
 "cells": [
  {
   "cell_type": "markdown",
   "metadata": {},
   "source": [
    "<p style=\"text-align: left;\">\n",
    " <font size=\"6\"> \n",
    "    Exploring \n",
    "    <font color=\"red\"> \n",
    "        COVID-19\n",
    "    </font> \n",
    "    data with \n",
    "    <font color=\"blue\"> \n",
    "    Jupyter\n",
    "    </font>\n",
    "    <font color=\"orange\"> \n",
    "    Notebook <br>\n",
    "    </font>\n",
    " </font>\n",
    " <font size=\"4\"> \n",
    "    Framingham State University, A Day in May (May 19, 2020) <br>\n",
    "    <br>\n",
    " </font>\n",
    " <font size=\"3\">\n",
    "    prepared by: <br> \n",
    " </font>\n",
    " <font size=\"4\">\n",
    "    Professor Larry McKenna and Guy Evans, PhD  \n",
    "    Department of Physics and Earth Science  \n",
    " </font>\n",
    "</p>"
   ]
  },
  {
   "cell_type": "markdown",
   "metadata": {},
   "source": [
    "# 0. Introduction\n",
    "With the worldwide outbreak of **[COVID-19](https://www.cdc.gov/coronavirus/2019-ncov/index.html)** and the shuttering of physical campuses, institutions of higher education in the United States (and elsewhere) are confronted with the challenge of providing high-quality educational experiences in a remote online learning environment. These same institutions are simultaneously faced with significant budgetary and enrollment uncertainty as student behavior and choices, as well as their willingness and ability to pay for higher education services, are expected to be strongly affected by this ongoing public health and economic emergency.  \n",
    "\n",
    "In this context, we would like to highlight the availability, accessability, and utility of **[Jupyter Notebook](https://jupyter.org/)**, a professional-quality computational notebook that can be leveraged as an **[open educational resource](https://www.mass.edu/strategic/oer.asp)** for higher education. Jupyter Notebook is a budget neutral solution that will allow you to provide your students with training in the widely used and marketable [Python](https://www.python.org/doc/) computing language and inspire them to critically engage with quantitative and digitally available data resources. \n",
    "\n",
    "While many different setups are technically available, we recommend downloading Jupyter Notebook as part of the **[Anaconda Distribution](https://www.anaconda.com/products/individual)**. This downloadable package contains a number of items that will allow for a essentially plug-and-play experience. Jupyter Notebooks saved in a [Github](https://github.com/) repository are remotely accessible through the online [Binder](https://mybinder.org/) remote access portal. This means that you (and your students) can still make use of interactive data explorations created using Jupyter Notebook even if actually downloading these resources and actively creating these notebooks is beyond the desired parameters of your course."
   ]
  },
  {
   "cell_type": "markdown",
   "metadata": {},
   "source": [
    "# 1. Software Libraries \n",
    "A powerful aspect of the Python computing language is the availability of extendable \"libraries\" that contain code specialized for various purposes. Many useful libraries are downloaded as part of the Anaconda Distribution. Other, more specialized libraries can be downloaded using the [conda installer](https://docs.conda.io/projects/conda/en/latest/user-guide/install/) accessed through the Terminal application (for MacOS or Linux) or the Anaconda Prompt (for Windows). When using Binder, you can specify the required libraries using a document called requirements.txt saved in your Github folder.  \n",
    "\n",
    "For now, we will just focus on importing a basic library downloaded as part of the Anaconda Distribution. This library, called \"Pandas\" contains code useful for manipulating \"data frames\", essentially data tables. In the following code block, we will import the Python library [Pandas](https://pandas.pydata.org/) and give it the alias \"pd\". This means that the next time we want to access the Pandas library, we will just type in the alias \"pd\". "
   ]
  },
  {
   "cell_type": "code",
   "execution_count": 1,
   "metadata": {},
   "outputs": [],
   "source": [
    "import pandas as pd # imports the Python library called \"Pandas\""
   ]
  },
  {
   "cell_type": "markdown",
   "metadata": {},
   "source": [
    "We will also import the libraries:  \n",
    "* [numpy](https://numpy.org/) a basic package for scientific computing\n",
    "* [scipy](https://www.scipy.org/) a more advanced package for scientific computing\n",
    "* [matplotlib](https://matplotlib.org/) for plotting"
   ]
  },
  {
   "cell_type": "code",
   "execution_count": 2,
   "metadata": {},
   "outputs": [],
   "source": [
    "import numpy as np\n",
    "import matplotlib.pyplot as plt\n",
    "%matplotlib inline\n",
    "\n",
    "import scipy.optimize as opt\n",
    "from scipy.stats.distributions import  t"
   ]
  },
  {
   "cell_type": "markdown",
   "metadata": {},
   "source": [
    "# 2. Data Sources\n",
    "In the following data exploration, we will be using data from the wiki compilation  https://en.wikipedia.org/wiki/2020_coronavirus_pandemic_in_Massachusetts which gives confirmed cases of COVID-19 in Masachusetts. Ultimately, these data are based on daily updates from the MA Dept of Public Health, such as https://www.mass.gov/doc/covid-19-cases-in-massachusetts-as-of-march-28-2020/download.  \n",
    "\n",
    "These data are stored in the .csv (comma-separated variable) file, \"**Cov_Ma.csv**\". This data table was produced by copying the table \"Coronavirus disease 2019 (COVID-19) cases in Massachusetts\" published on the above Wikipedia website into Excel and saving this table as a .csv file. \n",
    "\n",
    "You can **generate a .csv file in Excel** by going to \"Save As\" and saving in the .csv format. Once you have a .csv file, you can distribute this file to students through blackboard or include this in the Github repository. Depending on their individual set-ups, some students' computers may open the .csv file in an online web interface. If this happens, you can also e-mail students the file. Supplying the file as part of a Github repository would avoid this problem.  \n",
    "\n",
    "We recommend this method as the simplest and most accessible method for beginning faculty and students. More sophisticated methods of obtaining data are possible and would allow you to automatically download up-to-date data from an online source (see the library [BeautifulSoup](https://pypi.org/project/beautifulsoup4/) for html parsing). "
   ]
  },
  {
   "cell_type": "markdown",
   "metadata": {},
   "source": [
    "# 3. Subsidiary factoids\n",
    "To warm up and give some context to our data, let's estimating the populations of Boston and Massachusetts. These estimates will be based on linear extrapolation of recent census data to the current year."
   ]
  },
  {
   "cell_type": "markdown",
   "metadata": {},
   "source": [
    "### Population  of Boston:"
   ]
  },
  {
   "cell_type": "code",
   "execution_count": 3,
   "metadata": {},
   "outputs": [
    {
     "name": "stdout",
     "output_type": "stream",
     "text": [
      "The estimated poplulation of Boston in 2020 based on a linear extrapolation of the last two population estimates (2010 and 2017) is 712691 people.\n"
     ]
    }
   ],
   "source": [
    "pop_yr = [2010,2017] #Two recent years in which the population of Boston was counted.\n",
    "pop_pp = [620702,685094] #Population estimates for those two years.\n",
    "\n",
    "# We will now estimate the current population of Boston by extrapolation  of a line\n",
    "# connecting the two most recent years in which population was counted.\n",
    "\n",
    "delta_yr = pop_yr[1]-pop_yr[0] #calculate difference in years (2017-2010)\n",
    "delta_pp = pop_pp[1]-pop_pp[0] #calculate difference in population (2017-2010)\n",
    "slope_in_pop_2010_2017_bos = delta_pp/delta_yr #calculate population slope (delta y / delta x)\n",
    "current_year = 2020\n",
    "years_since_last_estimate = current_year - pop_yr[1]\n",
    "pop_2020_bos = years_since_last_estimate*slope_in_pop_2010_2017_bos+pop_pp[1]\n",
    "\n",
    "#We will now print the result in a nice, easy-to-read format.\n",
    "print (\"The estimated poplulation of Boston in \"\n",
    "       +str(current_year)+\n",
    "       \" based on a linear extrapolation of the last two population estimates (\"\n",
    "       + str(pop_yr[0])\n",
    "       + \" and \"\n",
    "       + str(pop_yr[1])\n",
    "       + \") is \"\n",
    "       + str(round(pop_2020_bos)) + \" people.\")"
   ]
  },
  {
   "cell_type": "markdown",
   "metadata": {},
   "source": [
    "### Population of Massachusetts:"
   ]
  },
  {
   "cell_type": "code",
   "execution_count": 4,
   "metadata": {},
   "outputs": [
    {
     "name": "stdout",
     "output_type": "stream",
     "text": [
      "The estimated poplulation of Massachusetts in 2020 based on a linear extrapolation of the last two population estimates (2005 and 2018) is 6920398 people.\n"
     ]
    }
   ],
   "source": [
    "pop_yr = [2005,2018] #Two recent years in which the population of Massachusetts was counted.\n",
    "pop_pp = [6.454e6,6.902e6] #Population estimates for those two years.\n",
    "\n",
    "# We will now estimate the current population of Boston by extrapolation  of a line\n",
    "# connecting the two most recent years in which population was counted.\n",
    "\n",
    "delta_yr = pop_yr[1]-pop_yr[0] #calculate difference in years (2017-2010)\n",
    "delta_pp = pop_pp[1]-pop_pp[0] #calculate difference in population (2017-2010)\n",
    "slope_in_pop_2010_2017_ma = delta_pp/delta_yr #calculate population slope (delta y / delta x)\n",
    "current_year = 2020\n",
    "years_since_last_estimate = current_year - pop_yr[1]\n",
    "pop_2020_ma = years_since_last_estimate*slope_in_pop_2010_2017_bos+pop_pp[1]\n",
    "\n",
    "#We will now print the result in a nice, easy-to-read format.\n",
    "print (\"The estimated poplulation of Massachusetts in \"\n",
    "       +str(current_year)+\n",
    "       \" based on a linear extrapolation of the last two population estimates (\"\n",
    "       + str(pop_yr[0])\n",
    "       + \" and \"\n",
    "       + str(pop_yr[1])\n",
    "       + \") is \"\n",
    "       + str(round(pop_2020_ma)) + \" people.\")"
   ]
  },
  {
   "cell_type": "code",
   "execution_count": 5,
   "metadata": {},
   "outputs": [
    {
     "name": "stdout",
     "output_type": "stream",
     "text": [
      "Roughly 10.3% of the Massachusetts population live in Boston, or roughly 713 thousand of 6.92 million people.\n"
     ]
    }
   ],
   "source": [
    "# We will now calculate the population of Boston as a percentage of the population of Massachustts\n",
    "perc_pop_ma_in_bos = pop_2020_bos/pop_2020_ma*100\n",
    "\n",
    "#We will now print the result in a nice, easy-to-read format.\n",
    "print('Roughly '\n",
    "      + str(round(perc_pop_ma_in_bos,1))\n",
    "      + '% of the Massachusetts population live in Boston,'\n",
    "      + ' or roughly '\n",
    "      + str(round(pop_2020_bos/1e3))\n",
    "      + ' thousand of ' \n",
    "      + str(round(pop_2020_ma/1e6,2))\n",
    "      + ' million people.') "
   ]
  },
  {
   "cell_type": "markdown",
   "metadata": {},
   "source": [
    "# 4. Let's Start Exploring!\n",
    "To start our data exploration, we first want to import the data."
   ]
  },
  {
   "cell_type": "code",
   "execution_count": 6,
   "metadata": {},
   "outputs": [],
   "source": [
    "#Run this code block to:\n",
    "#1. Identify the file location (folder is implied).\n",
    "Cov_Ma_fileloc  = 'Cov_Ma.csv'\n",
    "#2. Import the data from a .csv file to a Pandas dataframe.\n",
    "Cov_Ma = pd.read_csv(Cov_Ma_fileloc)"
   ]
  },
  {
   "cell_type": "markdown",
   "metadata": {},
   "source": [
    "Now that we think we've imported the data, we want to check by viewing a selection of the data."
   ]
  },
  {
   "cell_type": "code",
   "execution_count": 7,
   "metadata": {},
   "outputs": [
    {
     "data": {
      "text/html": [
       "<div>\n",
       "<style scoped>\n",
       "    .dataframe tbody tr th:only-of-type {\n",
       "        vertical-align: middle;\n",
       "    }\n",
       "\n",
       "    .dataframe tbody tr th {\n",
       "        vertical-align: top;\n",
       "    }\n",
       "\n",
       "    .dataframe thead th {\n",
       "        text-align: right;\n",
       "    }\n",
       "</style>\n",
       "<table border=\"1\" class=\"dataframe\">\n",
       "  <thead>\n",
       "    <tr style=\"text-align: right;\">\n",
       "      <th></th>\n",
       "      <th>Date</th>\n",
       "      <th>Total_Confirmed</th>\n",
       "      <th>Total_Change</th>\n",
       "      <th>Total_%_change</th>\n",
       "      <th>Total_Presumptive</th>\n",
       "      <th>Total_CDC confirmed</th>\n",
       "      <th>Exposure_Biogen</th>\n",
       "      <th>Exposure_Local</th>\n",
       "      <th>Exposure_Travel</th>\n",
       "      <th>Exposure_Unknown</th>\n",
       "      <th>...</th>\n",
       "      <th>Tests_%_change</th>\n",
       "      <th>Hospitalization_Yes</th>\n",
       "      <th>Hospitalization_no</th>\n",
       "      <th>Hospitalization_unknown</th>\n",
       "      <th>Deaths_Total</th>\n",
       "      <th>Deaths_Change</th>\n",
       "      <th>Deaths_%_change</th>\n",
       "      <th>Quarantine_Total</th>\n",
       "      <th>Quarantine_Released</th>\n",
       "      <th>Source</th>\n",
       "    </tr>\n",
       "  </thead>\n",
       "  <tbody>\n",
       "    <tr>\n",
       "      <th>0</th>\n",
       "      <td>1-Feb</td>\n",
       "      <td>1</td>\n",
       "      <td>0</td>\n",
       "      <td>NaN</td>\n",
       "      <td>0.0</td>\n",
       "      <td>1.0</td>\n",
       "      <td>NaN</td>\n",
       "      <td>NaN</td>\n",
       "      <td>NaN</td>\n",
       "      <td>NaN</td>\n",
       "      <td>...</td>\n",
       "      <td>NaN</td>\n",
       "      <td>NaN</td>\n",
       "      <td>NaN</td>\n",
       "      <td>NaN</td>\n",
       "      <td>NaN</td>\n",
       "      <td>NaN</td>\n",
       "      <td>NaN</td>\n",
       "      <td>NaN</td>\n",
       "      <td>NaN</td>\n",
       "      <td>[7]</td>\n",
       "    </tr>\n",
       "    <tr>\n",
       "      <th>1</th>\n",
       "      <td>2-Mar</td>\n",
       "      <td>2</td>\n",
       "      <td>1</td>\n",
       "      <td>100%</td>\n",
       "      <td>1.0</td>\n",
       "      <td>1.0</td>\n",
       "      <td>NaN</td>\n",
       "      <td>NaN</td>\n",
       "      <td>2.0</td>\n",
       "      <td>NaN</td>\n",
       "      <td>...</td>\n",
       "      <td>NaN</td>\n",
       "      <td>NaN</td>\n",
       "      <td>NaN</td>\n",
       "      <td>NaN</td>\n",
       "      <td>NaN</td>\n",
       "      <td>NaN</td>\n",
       "      <td>NaN</td>\n",
       "      <td>608.0</td>\n",
       "      <td>377.0</td>\n",
       "      <td>[12]</td>\n",
       "    </tr>\n",
       "    <tr>\n",
       "      <th>2</th>\n",
       "      <td>5-Mar</td>\n",
       "      <td>3</td>\n",
       "      <td>1</td>\n",
       "      <td>50%</td>\n",
       "      <td>2.0</td>\n",
       "      <td>1.0</td>\n",
       "      <td>NaN</td>\n",
       "      <td>NaN</td>\n",
       "      <td>2.0</td>\n",
       "      <td>NaN</td>\n",
       "      <td>...</td>\n",
       "      <td>NaN</td>\n",
       "      <td>NaN</td>\n",
       "      <td>NaN</td>\n",
       "      <td>NaN</td>\n",
       "      <td>NaN</td>\n",
       "      <td>NaN</td>\n",
       "      <td>NaN</td>\n",
       "      <td>719.0</td>\n",
       "      <td>470.0</td>\n",
       "      <td>[105][note 19]</td>\n",
       "    </tr>\n",
       "    <tr>\n",
       "      <th>3</th>\n",
       "      <td>6-Mar</td>\n",
       "      <td>8</td>\n",
       "      <td>5</td>\n",
       "      <td>166%</td>\n",
       "      <td>7.0</td>\n",
       "      <td>1.0</td>\n",
       "      <td>NaN</td>\n",
       "      <td>2.0</td>\n",
       "      <td>NaN</td>\n",
       "      <td>NaN</td>\n",
       "      <td>...</td>\n",
       "      <td>NaN</td>\n",
       "      <td>NaN</td>\n",
       "      <td>NaN</td>\n",
       "      <td>NaN</td>\n",
       "      <td>NaN</td>\n",
       "      <td>NaN</td>\n",
       "      <td>NaN</td>\n",
       "      <td>719.0</td>\n",
       "      <td>470.0</td>\n",
       "      <td>[note 19]</td>\n",
       "    </tr>\n",
       "    <tr>\n",
       "      <th>4</th>\n",
       "      <td>7-Mar</td>\n",
       "      <td>13</td>\n",
       "      <td>5</td>\n",
       "      <td>62%</td>\n",
       "      <td>12.0</td>\n",
       "      <td>1.0</td>\n",
       "      <td>NaN</td>\n",
       "      <td>2.0</td>\n",
       "      <td>NaN</td>\n",
       "      <td>NaN</td>\n",
       "      <td>...</td>\n",
       "      <td>NaN</td>\n",
       "      <td>NaN</td>\n",
       "      <td>NaN</td>\n",
       "      <td>NaN</td>\n",
       "      <td>NaN</td>\n",
       "      <td>NaN</td>\n",
       "      <td>NaN</td>\n",
       "      <td>719.0</td>\n",
       "      <td>470.0</td>\n",
       "      <td>[note 20]</td>\n",
       "    </tr>\n",
       "  </tbody>\n",
       "</table>\n",
       "<p>5 rows × 22 columns</p>\n",
       "</div>"
      ],
      "text/plain": [
       "    Date  Total_Confirmed  Total_Change Total_%_change  Total_Presumptive  \\\n",
       "0  1-Feb                1             0            NaN                0.0   \n",
       "1  2-Mar                2             1           100%                1.0   \n",
       "2  5-Mar                3             1            50%                2.0   \n",
       "3  6-Mar                8             5           166%                7.0   \n",
       "4  7-Mar               13             5            62%               12.0   \n",
       "\n",
       "   Total_CDC confirmed  Exposure_Biogen  Exposure_Local  Exposure_Travel  \\\n",
       "0                  1.0              NaN             NaN              NaN   \n",
       "1                  1.0              NaN             NaN              2.0   \n",
       "2                  1.0              NaN             NaN              2.0   \n",
       "3                  1.0              NaN             2.0              NaN   \n",
       "4                  1.0              NaN             2.0              NaN   \n",
       "\n",
       "   Exposure_Unknown       ...        Tests_%_change  Hospitalization_Yes  \\\n",
       "0               NaN       ...                   NaN                  NaN   \n",
       "1               NaN       ...                   NaN                  NaN   \n",
       "2               NaN       ...                   NaN                  NaN   \n",
       "3               NaN       ...                   NaN                  NaN   \n",
       "4               NaN       ...                   NaN                  NaN   \n",
       "\n",
       "  Hospitalization_no  Hospitalization_unknown  Deaths_Total  Deaths_Change  \\\n",
       "0                NaN                      NaN           NaN            NaN   \n",
       "1                NaN                      NaN           NaN            NaN   \n",
       "2                NaN                      NaN           NaN            NaN   \n",
       "3                NaN                      NaN           NaN            NaN   \n",
       "4                NaN                      NaN           NaN            NaN   \n",
       "\n",
       "   Deaths_%_change  Quarantine_Total Quarantine_Released          Source  \n",
       "0              NaN               NaN                 NaN             [7]  \n",
       "1              NaN             608.0               377.0            [12]  \n",
       "2              NaN             719.0               470.0  [105][note 19]  \n",
       "3              NaN             719.0               470.0       [note 19]  \n",
       "4              NaN             719.0               470.0       [note 20]  \n",
       "\n",
       "[5 rows x 22 columns]"
      ]
     },
     "execution_count": 7,
     "metadata": {},
     "output_type": "execute_result"
    }
   ],
   "source": [
    "Cov_Ma.head()"
   ]
  },
  {
   "cell_type": "markdown",
   "metadata": {},
   "source": [
    "We also want to check the types of data stored."
   ]
  },
  {
   "cell_type": "code",
   "execution_count": 8,
   "metadata": {},
   "outputs": [
    {
     "data": {
      "text/plain": [
       "Date                        object\n",
       "Total_Confirmed              int64\n",
       "Total_Change                 int64\n",
       "Total_%_change              object\n",
       "Total_Presumptive          float64\n",
       "Total_CDC confirmed        float64\n",
       "Exposure_Biogen            float64\n",
       "Exposure_Local             float64\n",
       "Exposure_Travel            float64\n",
       "Exposure_Unknown           float64\n",
       "Tests_Total                float64\n",
       "Tests_Change               float64\n",
       "Tests_%_change              object\n",
       "Hospitalization_Yes        float64\n",
       "Hospitalization_no         float64\n",
       "Hospitalization_unknown    float64\n",
       "Deaths_Total               float64\n",
       "Deaths_Change              float64\n",
       "Deaths_%_change             object\n",
       "Quarantine_Total           float64\n",
       "Quarantine_Released        float64\n",
       "Source                      object\n",
       "dtype: object"
      ]
     },
     "execution_count": 8,
     "metadata": {},
     "output_type": "execute_result"
    }
   ],
   "source": [
    "Cov_Ma.dtypes"
   ]
  },
  {
   "cell_type": "markdown",
   "metadata": {},
   "source": [
    "On inspection, we notice that this data set **doesn't specify the year**. We also notice that the data type used for the 'Date' column is 'object', namely a string literal. To plot the data, we will need to:\n",
    "1. specify the year \n",
    "2. convert the data type to a datetime. \n",
    "\n",
    "We will do this by adding a new column called 'YearDate' so that we don't alter the original 'Date' column."
   ]
  },
  {
   "cell_type": "code",
   "execution_count": 9,
   "metadata": {},
   "outputs": [
    {
     "data": {
      "text/html": [
       "<div>\n",
       "<style scoped>\n",
       "    .dataframe tbody tr th:only-of-type {\n",
       "        vertical-align: middle;\n",
       "    }\n",
       "\n",
       "    .dataframe tbody tr th {\n",
       "        vertical-align: top;\n",
       "    }\n",
       "\n",
       "    .dataframe thead th {\n",
       "        text-align: right;\n",
       "    }\n",
       "</style>\n",
       "<table border=\"1\" class=\"dataframe\">\n",
       "  <thead>\n",
       "    <tr style=\"text-align: right;\">\n",
       "      <th></th>\n",
       "      <th>YearDate</th>\n",
       "      <th>Date</th>\n",
       "      <th>Total_Confirmed</th>\n",
       "      <th>Total_Change</th>\n",
       "      <th>Total_%_change</th>\n",
       "      <th>Total_Presumptive</th>\n",
       "      <th>Total_CDC confirmed</th>\n",
       "      <th>Exposure_Biogen</th>\n",
       "      <th>Exposure_Local</th>\n",
       "      <th>Exposure_Travel</th>\n",
       "      <th>...</th>\n",
       "      <th>Tests_%_change</th>\n",
       "      <th>Hospitalization_Yes</th>\n",
       "      <th>Hospitalization_no</th>\n",
       "      <th>Hospitalization_unknown</th>\n",
       "      <th>Deaths_Total</th>\n",
       "      <th>Deaths_Change</th>\n",
       "      <th>Deaths_%_change</th>\n",
       "      <th>Quarantine_Total</th>\n",
       "      <th>Quarantine_Released</th>\n",
       "      <th>Source</th>\n",
       "    </tr>\n",
       "  </thead>\n",
       "  <tbody>\n",
       "    <tr>\n",
       "      <th>0</th>\n",
       "      <td>2020-02-01</td>\n",
       "      <td>1-Feb</td>\n",
       "      <td>1</td>\n",
       "      <td>0</td>\n",
       "      <td>NaN</td>\n",
       "      <td>0.0</td>\n",
       "      <td>1.0</td>\n",
       "      <td>NaN</td>\n",
       "      <td>NaN</td>\n",
       "      <td>NaN</td>\n",
       "      <td>...</td>\n",
       "      <td>NaN</td>\n",
       "      <td>NaN</td>\n",
       "      <td>NaN</td>\n",
       "      <td>NaN</td>\n",
       "      <td>NaN</td>\n",
       "      <td>NaN</td>\n",
       "      <td>NaN</td>\n",
       "      <td>NaN</td>\n",
       "      <td>NaN</td>\n",
       "      <td>[7]</td>\n",
       "    </tr>\n",
       "    <tr>\n",
       "      <th>1</th>\n",
       "      <td>2020-03-02</td>\n",
       "      <td>2-Mar</td>\n",
       "      <td>2</td>\n",
       "      <td>1</td>\n",
       "      <td>100%</td>\n",
       "      <td>1.0</td>\n",
       "      <td>1.0</td>\n",
       "      <td>NaN</td>\n",
       "      <td>NaN</td>\n",
       "      <td>2.0</td>\n",
       "      <td>...</td>\n",
       "      <td>NaN</td>\n",
       "      <td>NaN</td>\n",
       "      <td>NaN</td>\n",
       "      <td>NaN</td>\n",
       "      <td>NaN</td>\n",
       "      <td>NaN</td>\n",
       "      <td>NaN</td>\n",
       "      <td>608.0</td>\n",
       "      <td>377.0</td>\n",
       "      <td>[12]</td>\n",
       "    </tr>\n",
       "    <tr>\n",
       "      <th>2</th>\n",
       "      <td>2020-03-05</td>\n",
       "      <td>5-Mar</td>\n",
       "      <td>3</td>\n",
       "      <td>1</td>\n",
       "      <td>50%</td>\n",
       "      <td>2.0</td>\n",
       "      <td>1.0</td>\n",
       "      <td>NaN</td>\n",
       "      <td>NaN</td>\n",
       "      <td>2.0</td>\n",
       "      <td>...</td>\n",
       "      <td>NaN</td>\n",
       "      <td>NaN</td>\n",
       "      <td>NaN</td>\n",
       "      <td>NaN</td>\n",
       "      <td>NaN</td>\n",
       "      <td>NaN</td>\n",
       "      <td>NaN</td>\n",
       "      <td>719.0</td>\n",
       "      <td>470.0</td>\n",
       "      <td>[105][note 19]</td>\n",
       "    </tr>\n",
       "    <tr>\n",
       "      <th>3</th>\n",
       "      <td>2020-03-06</td>\n",
       "      <td>6-Mar</td>\n",
       "      <td>8</td>\n",
       "      <td>5</td>\n",
       "      <td>166%</td>\n",
       "      <td>7.0</td>\n",
       "      <td>1.0</td>\n",
       "      <td>NaN</td>\n",
       "      <td>2.0</td>\n",
       "      <td>NaN</td>\n",
       "      <td>...</td>\n",
       "      <td>NaN</td>\n",
       "      <td>NaN</td>\n",
       "      <td>NaN</td>\n",
       "      <td>NaN</td>\n",
       "      <td>NaN</td>\n",
       "      <td>NaN</td>\n",
       "      <td>NaN</td>\n",
       "      <td>719.0</td>\n",
       "      <td>470.0</td>\n",
       "      <td>[note 19]</td>\n",
       "    </tr>\n",
       "    <tr>\n",
       "      <th>4</th>\n",
       "      <td>2020-03-07</td>\n",
       "      <td>7-Mar</td>\n",
       "      <td>13</td>\n",
       "      <td>5</td>\n",
       "      <td>62%</td>\n",
       "      <td>12.0</td>\n",
       "      <td>1.0</td>\n",
       "      <td>NaN</td>\n",
       "      <td>2.0</td>\n",
       "      <td>NaN</td>\n",
       "      <td>...</td>\n",
       "      <td>NaN</td>\n",
       "      <td>NaN</td>\n",
       "      <td>NaN</td>\n",
       "      <td>NaN</td>\n",
       "      <td>NaN</td>\n",
       "      <td>NaN</td>\n",
       "      <td>NaN</td>\n",
       "      <td>719.0</td>\n",
       "      <td>470.0</td>\n",
       "      <td>[note 20]</td>\n",
       "    </tr>\n",
       "  </tbody>\n",
       "</table>\n",
       "<p>5 rows × 23 columns</p>\n",
       "</div>"
      ],
      "text/plain": [
       "    YearDate   Date  Total_Confirmed  Total_Change Total_%_change  \\\n",
       "0 2020-02-01  1-Feb                1             0            NaN   \n",
       "1 2020-03-02  2-Mar                2             1           100%   \n",
       "2 2020-03-05  5-Mar                3             1            50%   \n",
       "3 2020-03-06  6-Mar                8             5           166%   \n",
       "4 2020-03-07  7-Mar               13             5            62%   \n",
       "\n",
       "   Total_Presumptive  Total_CDC confirmed  Exposure_Biogen  Exposure_Local  \\\n",
       "0                0.0                  1.0              NaN             NaN   \n",
       "1                1.0                  1.0              NaN             NaN   \n",
       "2                2.0                  1.0              NaN             NaN   \n",
       "3                7.0                  1.0              NaN             2.0   \n",
       "4               12.0                  1.0              NaN             2.0   \n",
       "\n",
       "   Exposure_Travel       ...        Tests_%_change  Hospitalization_Yes  \\\n",
       "0              NaN       ...                   NaN                  NaN   \n",
       "1              2.0       ...                   NaN                  NaN   \n",
       "2              2.0       ...                   NaN                  NaN   \n",
       "3              NaN       ...                   NaN                  NaN   \n",
       "4              NaN       ...                   NaN                  NaN   \n",
       "\n",
       "   Hospitalization_no Hospitalization_unknown  Deaths_Total  Deaths_Change  \\\n",
       "0                 NaN                     NaN           NaN            NaN   \n",
       "1                 NaN                     NaN           NaN            NaN   \n",
       "2                 NaN                     NaN           NaN            NaN   \n",
       "3                 NaN                     NaN           NaN            NaN   \n",
       "4                 NaN                     NaN           NaN            NaN   \n",
       "\n",
       "   Deaths_%_change  Quarantine_Total  Quarantine_Released          Source  \n",
       "0              NaN               NaN                  NaN             [7]  \n",
       "1              NaN             608.0                377.0            [12]  \n",
       "2              NaN             719.0                470.0  [105][note 19]  \n",
       "3              NaN             719.0                470.0       [note 19]  \n",
       "4              NaN             719.0                470.0       [note 20]  \n",
       "\n",
       "[5 rows x 23 columns]"
      ]
     },
     "execution_count": 9,
     "metadata": {},
     "output_type": "execute_result"
    }
   ],
   "source": [
    "#Generate entries for new 'YearDate' column by appending '2020' to entries in 'Date' column.\n",
    "Cov_Ma['YearDate'] = '2020-'+ Cov_Ma['Date']\n",
    "#Convert data type of 'YearDate' column to datetime.\n",
    "Cov_Ma['YearDate']= pd.to_datetime(Cov_Ma['YearDate'],format='%Y-%d-%b')\n",
    "#Move 'YearDate' column to front.\n",
    "col = Cov_Ma.pop('YearDate')\n",
    "Cov_Ma.insert(0, col.name, col)\n",
    "#Display first five rows.\n",
    "Cov_Ma.head()"
   ]
  },
  {
   "cell_type": "code",
   "execution_count": 10,
   "metadata": {},
   "outputs": [
    {
     "data": {
      "text/plain": [
       "YearDate           datetime64[ns]\n",
       "Date                       object\n",
       "Total_Confirmed             int64\n",
       "Total_Change                int64\n",
       "Total_%_change             object\n",
       "dtype: object"
      ]
     },
     "execution_count": 10,
     "metadata": {},
     "output_type": "execute_result"
    }
   ],
   "source": [
    "# Confirm that datatype of 'YearDate' column is datetime.\n",
    "Cov_Ma.dtypes.head()"
   ]
  },
  {
   "cell_type": "markdown",
   "metadata": {},
   "source": [
    "Now that we've confirmed that we can access the data and have put the dates in the proper format, we can plot the data."
   ]
  },
  {
   "cell_type": "markdown",
   "metadata": {},
   "source": [
    "## 4.1. Plotting  the Data\n",
    "### Total Cases and Deaths\n",
    "We can now plot total cummulative cases and deaths."
   ]
  },
  {
   "cell_type": "code",
   "execution_count": 41,
   "metadata": {},
   "outputs": [
    {
     "data": {
      "text/plain": [
       "Text(0,0.5,'Totals')"
      ]
     },
     "execution_count": 41,
     "metadata": {},
     "output_type": "execute_result"
    },
    {
     "data": {
      "text/plain": [
       "<Figure size 432x288 with 0 Axes>"
      ]
     },
     "metadata": {},
     "output_type": "display_data"
    },
    {
     "data": {
      "image/png": "[encoded data removed]",
      "text/plain": [
       "<Figure size 432x288 with 1 Axes>"
      ]
     },
     "metadata": {},
     "output_type": "display_data"
    }
   ],
   "source": [
    "fig = plt.figure()\n",
    "Cov_Ma.plot(x='YearDate', y=['Total_Confirmed','Deaths_Total','Hospitalization_Yes'],style='o', label = ['Cases', 'Deaths', 'Hospitalization'])\n",
    "plt.title('COVID-19 in Massachusetts \\n (Totals, Linear Scale)', size = 20)\n",
    "plt.xlabel('Date', size = 15)\n",
    "plt.ylabel('Totals', size = 15)"
   ]
  },
  {
   "cell_type": "markdown",
   "metadata": {},
   "source": [
    "We can plot this data on a semi-log plot to identify changes in the rate of increase."
   ]
  },
  {
   "cell_type": "code",
   "execution_count": 44,
   "metadata": {},
   "outputs": [
    {
     "data": {
      "text/plain": [
       "Text(0,0.5,'Totals \\n (log)')"
      ]
     },
     "execution_count": 44,
     "metadata": {},
     "output_type": "execute_result"
    },
    {
     "data": {
      "text/plain": [
       "<Figure size 432x288 with 0 Axes>"
      ]
     },
     "metadata": {},
     "output_type": "display_data"
    },
    {
     "data": {
      "image/png": "[encoded data removed]",
      "text/plain": [
       "<Figure size 432x288 with 1 Axes>"
      ]
     },
     "metadata": {},
     "output_type": "display_data"
    }
   ],
   "source": [
    "fig = plt.figure()\n",
    "Cov_Ma.plot(x='YearDate', y=['Total_Confirmed','Deaths_Total','Hospitalization_Yes'],style='o', label = ['Cases', 'Deaths', 'Hospitalization'], logy = True)\n",
    "plt.title('COVID-19 in Massachusetts \\n (Totals, Log Scale)', size = 20)\n",
    "plt.xlabel('Date', size = 15)\n",
    "plt.ylabel('Totals \\n (log)', size = 15)"
   ]
  },
  {
   "cell_type": "markdown",
   "metadata": {},
   "source": [
    "### Cases and Deaths per day\n",
    "We can also plot the number of cases and deaths per day. We will do this on a linear andd then semi-log plot."
   ]
  },
  {
   "cell_type": "code",
   "execution_count": 42,
   "metadata": {},
   "outputs": [
    {
     "data": {
      "text/plain": [
       "Text(0,0.5,'New Cases/ \\n Deaths per Day')"
      ]
     },
     "execution_count": 42,
     "metadata": {},
     "output_type": "execute_result"
    },
    {
     "data": {
      "text/plain": [
       "<Figure size 432x288 with 0 Axes>"
      ]
     },
     "metadata": {},
     "output_type": "display_data"
    },
    {
     "data": {
      "image/png": "[encoded data removed]",
      "text/plain": [
       "<Figure size 432x288 with 1 Axes>"
      ]
     },
     "metadata": {},
     "output_type": "display_data"
    }
   ],
   "source": [
    "fig = plt.figure()\n",
    "Cov_Ma.plot(x='YearDate', y=['Total_Change','Deaths_Change'],style='o', label = ['Cases', 'Deaths'])\n",
    "plt.title('COVID-19 in Massachusetts \\n (Daily, Linear Scale)', size = 20)\n",
    "plt.xlabel('Date', size = 15)\n",
    "plt.ylabel('New Cases/ \\n Deaths per Day', size = 15)"
   ]
  },
  {
   "cell_type": "code",
   "execution_count": 43,
   "metadata": {},
   "outputs": [
    {
     "data": {
      "text/plain": [
       "Text(0,0.5,'New Cases/Deaths \\n per Day')"
      ]
     },
     "execution_count": 43,
     "metadata": {},
     "output_type": "execute_result"
    },
    {
     "data": {
      "text/plain": [
       "<Figure size 432x288 with 0 Axes>"
      ]
     },
     "metadata": {},
     "output_type": "display_data"
    },
    {
     "data": {
      "image/png": "[encoded data removed]",
      "text/plain": [
       "<Figure size 432x288 with 1 Axes>"
      ]
     },
     "metadata": {},
     "output_type": "display_data"
    }
   ],
   "source": [
    "fig = plt.figure()\n",
    "Cov_Ma.plot(x='YearDate', y=['Total_Change','Deaths_Change'],style='o', logy = True, label = ['Cases', 'Deaths'])\n",
    "plt.title('COVID-19 in Massachusetts\\n (Daily, Log Scale)', size = 20)\n",
    "plt.xlabel('Date', size = 15)\n",
    "plt.ylabel('New Cases/Deaths \\n per Day', size = 15)"
   ]
  },
  {
   "cell_type": "markdown",
   "metadata": {},
   "source": [
    "## 4.2. Fitting the Data to a Logistic Curve\n",
    "The logistic curve is given by:  \n",
    "$$ m_i = \\frac{k_i}{1+e^{-(t-t_0)\\cdot\\gamma}}$$ \n",
    "\n",
    "where $m_i$ is the total number of cases (or deaths), $k_i$ is the maximum number of total cases (or deaths), $t$ is the number of days since the start (we will use March 10th), and $\\gamma$ is a constant related to the growth rate.  \n",
    "\n",
    "To keep things cleaner, we will create a new data frame containing only the data we need to fit this model. "
   ]
  },
  {
   "cell_type": "code",
   "execution_count": 15,
   "metadata": {},
   "outputs": [],
   "source": [
    "#Defining the Start Day.\n",
    "start_day_as_str = '2020-03-10'\n",
    "start_day_as_dt = pd.to_datetime(start_day_as_str)\n",
    "day_col_label = 'Days since ' + start_day_as_str"
   ]
  },
  {
   "cell_type": "code",
   "execution_count": 16,
   "metadata": {},
   "outputs": [
    {
     "data": {
      "text/html": [
       "<div>\n",
       "<style scoped>\n",
       "    .dataframe tbody tr th:only-of-type {\n",
       "        vertical-align: middle;\n",
       "    }\n",
       "\n",
       "    .dataframe tbody tr th {\n",
       "        vertical-align: top;\n",
       "    }\n",
       "\n",
       "    .dataframe thead th {\n",
       "        text-align: right;\n",
       "    }\n",
       "</style>\n",
       "<table border=\"1\" class=\"dataframe\">\n",
       "  <thead>\n",
       "    <tr style=\"text-align: right;\">\n",
       "      <th></th>\n",
       "      <th>Days since 2020-03-10</th>\n",
       "      <th>YearDate</th>\n",
       "      <th>Total Confirmed Cases</th>\n",
       "      <th>Total Confirmed Deaths</th>\n",
       "    </tr>\n",
       "  </thead>\n",
       "  <tbody>\n",
       "    <tr>\n",
       "      <th>0</th>\n",
       "      <td>-38</td>\n",
       "      <td>2020-02-01</td>\n",
       "      <td>1</td>\n",
       "      <td>NaN</td>\n",
       "    </tr>\n",
       "    <tr>\n",
       "      <th>1</th>\n",
       "      <td>-8</td>\n",
       "      <td>2020-03-02</td>\n",
       "      <td>2</td>\n",
       "      <td>NaN</td>\n",
       "    </tr>\n",
       "    <tr>\n",
       "      <th>2</th>\n",
       "      <td>-5</td>\n",
       "      <td>2020-03-05</td>\n",
       "      <td>3</td>\n",
       "      <td>NaN</td>\n",
       "    </tr>\n",
       "    <tr>\n",
       "      <th>3</th>\n",
       "      <td>-4</td>\n",
       "      <td>2020-03-06</td>\n",
       "      <td>8</td>\n",
       "      <td>NaN</td>\n",
       "    </tr>\n",
       "    <tr>\n",
       "      <th>4</th>\n",
       "      <td>-3</td>\n",
       "      <td>2020-03-07</td>\n",
       "      <td>13</td>\n",
       "      <td>NaN</td>\n",
       "    </tr>\n",
       "  </tbody>\n",
       "</table>\n",
       "</div>"
      ],
      "text/plain": [
       "   Days since 2020-03-10   YearDate  Total Confirmed Cases  \\\n",
       "0                    -38 2020-02-01                      1   \n",
       "1                     -8 2020-03-02                      2   \n",
       "2                     -5 2020-03-05                      3   \n",
       "3                     -4 2020-03-06                      8   \n",
       "4                     -3 2020-03-07                     13   \n",
       "\n",
       "   Total Confirmed Deaths  \n",
       "0                     NaN  \n",
       "1                     NaN  \n",
       "2                     NaN  \n",
       "3                     NaN  \n",
       "4                     NaN  "
      ]
     },
     "execution_count": 16,
     "metadata": {},
     "output_type": "execute_result"
    }
   ],
   "source": [
    "# Creating the data frame.\n",
    "Cov_Ma_select = pd.DataFrame(columns = [day_col_label,\n",
    "                                        'YearDate',\n",
    "                                        'Total Confirmed Cases',\n",
    "                                        'Total Confirmed Deaths',])\n",
    "#Populating the dataframe.\n",
    "#Calculate Days since March 10, 2020.\n",
    "Cov_Ma_select[day_col_label] = Cov_Ma['YearDate'] - start_day_as_dt\n",
    "Cov_Ma_select[day_col_label] = Cov_Ma_select[day_col_label].dt.days\n",
    "\n",
    "#Fill other columns by copying.\n",
    "Cov_Ma_select['YearDate'] = Cov_Ma['YearDate']\n",
    "Cov_Ma_select['Total Confirmed Cases'] = Cov_Ma['Total_Confirmed']\n",
    "Cov_Ma_select['Total Confirmed Deaths'] = Cov_Ma['Deaths_Total']\n",
    "Cov_Ma_select.head()"
   ]
  },
  {
   "cell_type": "markdown",
   "metadata": {},
   "source": [
    "### Fitting the Data\n",
    "Now that we have the data set up, we will try to fit this data to a logistical curve using the optimize.curve_fit function. Documentation on the optimize.curve_fit function can be found here:  \n",
    "https://docs.scipy.org/doc/scipy/reference/generated/scipy.optimize.curve_fit.html  \n",
    "\n",
    "More help:\n",
    "* Basic directions for fitting data to a non-linear function:  \n",
    "https://ipython-books.github.io/93-fitting-a-function-to-data-with-nonlinear-least-squares/\n",
    "\n",
    "* Additional helpfor information:  \n",
    "http://kitchingroup.cheme.cmu.edu/blog/2013/02/12/Nonlinear-curve-fitting-with-parameter-confidence-intervals/\n",
    "\n",
    "* More information and examples:  \n",
    "http://scipyscriptrepo.com/wp/?p=104\n",
    "\n",
    "* for more advanced curve fitting and creation of confidence intervals, you can check out the library lmfit. (Unfortunately, this is not included in Anaconda)\n",
    "\n",
    "As you begin to notice, there is a **robust user community** and lots of worked examples out there."
   ]
  },
  {
   "cell_type": "code",
   "execution_count": 17,
   "metadata": {},
   "outputs": [],
   "source": [
    "#Define a Logistic Function and parameter names for the table (data frame)\n",
    "par_names = ['k','t_0','g']\n",
    "def model_fun(t, k, t_0, g):\n",
    "    return k / (1. + np.exp(-g *(t - t_0)))\n",
    "\n",
    "x = Cov_Ma_select[day_col_label]\n",
    "y = Cov_Ma_select['Total Confirmed Cases']\n",
    "\n",
    "#Fit the data using the defined function\n",
    "pars,pcov = opt.curve_fit(model_fun, x, y)\n",
    "(k_, t_0_, g_,), _ = opt.curve_fit(model_fun, x, y)\n",
    "y_fit = model_fun(x, pars[0],pars[1],pars[2])\n",
    "\n",
    "alpha = 0.05 # 95% confidence interval = 100*(1-alpha)\n",
    "n = len(y)    # number of data points\n",
    "p = len(pars) # number of parameters\n",
    "dof = max(0, n - p) # number of degrees of freedom\n",
    "tval = t.ppf(1.0-alpha/2., dof) # student-t value for the dof and confidence level"
   ]
  },
  {
   "cell_type": "code",
   "execution_count": 18,
   "metadata": {
    "scrolled": true
   },
   "outputs": [
    {
     "data": {
      "text/html": [
       "<div>\n",
       "<style scoped>\n",
       "    .dataframe tbody tr th:only-of-type {\n",
       "        vertical-align: middle;\n",
       "    }\n",
       "\n",
       "    .dataframe tbody tr th {\n",
       "        vertical-align: top;\n",
       "    }\n",
       "\n",
       "    .dataframe thead th {\n",
       "        text-align: right;\n",
       "    }\n",
       "</style>\n",
       "<table border=\"1\" class=\"dataframe\">\n",
       "  <thead>\n",
       "    <tr style=\"text-align: right;\">\n",
       "      <th></th>\n",
       "      <th>Parameter</th>\n",
       "      <th>Estimate</th>\n",
       "      <th>Variance</th>\n",
       "      <th>Standard Error</th>\n",
       "      <th>tStat</th>\n",
       "    </tr>\n",
       "  </thead>\n",
       "  <tbody>\n",
       "    <tr>\n",
       "      <th>0</th>\n",
       "      <td>k</td>\n",
       "      <td>84709.579216</td>\n",
       "      <td>1.322554e+06</td>\n",
       "      <td>1150.023386</td>\n",
       "      <td>73.659006</td>\n",
       "    </tr>\n",
       "    <tr>\n",
       "      <th>1</th>\n",
       "      <td>t_0</td>\n",
       "      <td>41.675332</td>\n",
       "      <td>1.077900e-01</td>\n",
       "      <td>0.328314</td>\n",
       "      <td>126.937446</td>\n",
       "    </tr>\n",
       "    <tr>\n",
       "      <th>2</th>\n",
       "      <td>g</td>\n",
       "      <td>0.114259</td>\n",
       "      <td>5.636646e-06</td>\n",
       "      <td>0.002374</td>\n",
       "      <td>48.126101</td>\n",
       "    </tr>\n",
       "  </tbody>\n",
       "</table>\n",
       "</div>"
      ],
      "text/plain": [
       "  Parameter      Estimate      Variance  Standard Error       tStat\n",
       "0         k  84709.579216  1.322554e+06     1150.023386   73.659006\n",
       "1       t_0     41.675332  1.077900e-01        0.328314  126.937446\n",
       "2         g      0.114259  5.636646e-06        0.002374   48.126101"
      ]
     },
     "execution_count": 18,
     "metadata": {},
     "output_type": "execute_result"
    }
   ],
   "source": [
    "Cov_model_cases = pd.DataFrame(columns = ['Parameter',\n",
    "                                         'Estimate',\n",
    "                                         'Variance',\n",
    "                                         'Standard Error',\n",
    "                                         'tStat'])\n",
    "Cov_model_cases['Parameter'] = par_names\n",
    "Cov_model_cases['Estimate'] = pars\n",
    "Cov_model_cases['Variance'] = np.diag(pcov)\n",
    "Cov_model_cases['Standard Error'] = np.diag(pcov)**0.5\n",
    "Cov_model_cases['tStat'] = Cov_model_cases['Estimate'] / Cov_model_cases['Standard Error']\n",
    "Cov_model_cases"
   ]
  },
  {
   "cell_type": "code",
   "execution_count": 19,
   "metadata": {},
   "outputs": [
    {
     "data": {
      "text/plain": [
       "(array([737453., 737467., 737481., 737495., 737509., 737523., 737537.,\n",
       "        737551.]), <a list of 8 Text xticklabel objects>)"
      ]
     },
     "execution_count": 19,
     "metadata": {},
     "output_type": "execute_result"
    },
    {
     "data": {
      "image/png": "[encoded data removed]",
      "text/plain": [
       "<Figure size 432x288 with 1 Axes>"
      ]
     },
     "metadata": {},
     "output_type": "display_data"
    }
   ],
   "source": [
    "#plot the data and the proposed model\n",
    "fig, ax = plt.subplots(1, 1, figsize=(6, 4))\n",
    "ax.plot(Cov_Ma_select['YearDate'], y, 'o')\n",
    "ax.plot(Cov_Ma_select['YearDate'], y_fit, '-k')\n",
    "plt.title('COVID-19 in Massachusetts', size = 20)\n",
    "plt.xlabel('Date', size = 15)\n",
    "plt.ylabel('Total Confirmed Cases', size = 15)\n",
    "plt.xticks(rotation=45)"
   ]
  },
  {
   "cell_type": "markdown",
   "metadata": {},
   "source": [
    "## Predictions"
   ]
  },
  {
   "cell_type": "code",
   "execution_count": 20,
   "metadata": {},
   "outputs": [],
   "source": [
    "Pred_window=21\n",
    "Pred_days=list(range(min(Cov_Ma_select[day_col_label]), max(Cov_Ma_select[day_col_label])+Pred_window+1))"
   ]
  },
  {
   "cell_type": "code",
   "execution_count": 21,
   "metadata": {},
   "outputs": [],
   "source": [
    "from datetime import date, timedelta\n",
    "Pred_dates = [start_day_as_dt + timedelta(days=x) for x in range(min(Pred_days)-1,max(Pred_days))]"
   ]
  },
  {
   "cell_type": "code",
   "execution_count": 48,
   "metadata": {},
   "outputs": [
    {
     "data": {
      "text/plain": [
       "<matplotlib.legend.Legend at 0x2d6ef9eea20>"
      ]
     },
     "execution_count": 48,
     "metadata": {},
     "output_type": "execute_result"
    },
    {
     "data": {
      "image/png": "[encoded data removed]",
      "text/plain": [
       "<Figure size 432x288 with 1 Axes>"
      ]
     },
     "metadata": {},
     "output_type": "display_data"
    }
   ],
   "source": [
    "y_pred = model_fun(Pred_days, pars[0],pars[1],pars[2])\n",
    "pars_2ste = 2*np.diag(pcov)**0.5\n",
    "#Non-rigorous estimate of upper and lower windows\n",
    "y_lower = model_fun(Pred_days, pars[0]-pars_2ste[0],pars[1]+pars_2ste[1],pars[2]-pars_2ste[2])\n",
    "y_upper = model_fun(Pred_days, pars[0]+pars_2ste[0],pars[1]-pars_2ste[1],pars[2]+pars_2ste[2])\n",
    "\n",
    "#plot the data and the proposed model\n",
    "fig, ax = plt.subplots(1, 1, figsize=(6, 4))\n",
    "ax.plot(Cov_Ma_select['YearDate'], y, 'ko', markerfacecolor='none', label='Observations')\n",
    "ax.plot(Pred_dates, y_pred, '--b', markerfacecolor='none', label='Predictions')\n",
    "ax.plot(Pred_dates, y_upper, ':b', markerfacecolor='none')\n",
    "ax.plot(Pred_dates, y_lower, ':b', markerfacecolor='none')\n",
    "plt.title('Identified COVID-19 Cases \\n in Massachusetts', size = 20)\n",
    "plt.xlabel('Date', size = 15)\n",
    "plt.ylabel('Total Confirmed Cases', size = 15)\n",
    "plt.xticks(rotation=45)\n",
    "plt.legend()"
   ]
  },
  {
   "cell_type": "code",
   "execution_count": null,
   "metadata": {},
   "outputs": [],
   "source": []
  }
 ],
 "metadata": {
  "kernelspec": {
   "display_name": "Python 3",
   "language": "python",
   "name": "python3"
  },
  "language_info": {
   "codemirror_mode": {
    "name": "ipython",
    "version": 3
   },
   "file_extension": ".py",
   "mimetype": "text/x-python",
   "name": "python",
   "nbconvert_exporter": "python",
   "pygments_lexer": "ipython3",
   "version": "3.6.5"
  }
 },
 "nbformat": 4,
 "nbformat_minor": 2
}
